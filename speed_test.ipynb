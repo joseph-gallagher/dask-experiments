{
 "cells": [
  {
   "cell_type": "markdown",
   "metadata": {
    "collapsed": true
   },
   "source": [
    "# Dask Speed Test\n",
    "\n",
    "The purpose of this notebook is to play around with the Dask module and understand the speedups it offers over (1) conventional Python operations, (2) Numpy operations, and (3) vectorized Python code (via numba). Moreover, I'll include some experiments in here for profiling Dask code, and if things go well, will build some example questions at the end that a reader could review to assess their understanding."
   ]
  },
  {
   "cell_type": "markdown",
   "metadata": {},
   "source": [
    "### Ex 1: Computation that could be parallelized"
   ]
  },
  {
   "cell_type": "code",
   "execution_count": 5,
   "metadata": {},
   "outputs": [],
   "source": [
    "import pandas as pd\n",
    "import numpy as np\n",
    "import dask\n",
    "from timeit import timeit\n",
    "from numba import vectorize, float64"
   ]
  },
  {
   "cell_type": "code",
   "execution_count": 7,
   "metadata": {},
   "outputs": [],
   "source": [
    "df = pd.DataFrame({'A':np.arange(0, 100, 0.01), 'B':np.random.randn(10000)})"
   ]
  },
  {
   "cell_type": "code",
   "execution_count": 12,
   "metadata": {},
   "outputs": [],
   "source": [
    "def slow_add():\n",
    "    c = []\n",
    "    for a, b in zip(df['A'], df['B']):\n",
    "        c.append(a+b)\n",
    "    return c\n",
    "\n",
    "def fast_add():\n",
    "    c = df['A'] + df['B']"
   ]
  },
  {
   "cell_type": "code",
   "execution_count": 3,
   "metadata": {},
   "outputs": [
    {
     "data": {
      "text/plain": [
       "9.708962222999986"
      ]
     },
     "execution_count": 3,
     "metadata": {},
     "output_type": "execute_result"
    }
   ],
   "source": [
    "SETUP_CODE = \"\"\"\n",
    "import pandas as pd\n",
    "import numpy as np\n",
    "\n",
    "df = pd.DataFrame({'A':np.arange(0, 100, 0.01), 'B':np.random.randn(10000)})\n",
    "\n",
    "def slow_add():\n",
    "    c = []\n",
    "    for a, b in zip(df['A'], df['B']):\n",
    "        c.append(a+b)\n",
    "    return c\n",
    "\n",
    "def fast_add():\n",
    "    c = df['A'] + df['B']\n",
    "\"\"\"\n",
    "timeit(setup=SETUP_CODE, stmt='slow_add()', number=1000)"
   ]
  },
  {
   "cell_type": "code",
   "execution_count": 4,
   "metadata": {},
   "outputs": [
    {
     "data": {
      "text/plain": [
       "0.41694216999999867"
      ]
     },
     "execution_count": 4,
     "metadata": {},
     "output_type": "execute_result"
    }
   ],
   "source": [
    "SETUP_CODE = \"\"\"\n",
    "import pandas as pd\n",
    "import numpy as np\n",
    "\n",
    "df = pd.DataFrame({'A':np.arange(0, 100, 0.01), 'B':np.random.randn(10000)})\n",
    "\n",
    "def slow_add():\n",
    "    c = []\n",
    "    for a, b in zip(df['A'], df['B']):\n",
    "        c.append(a+b)\n",
    "    return c\n",
    "\n",
    "def fast_add():\n",
    "    c = df['A'] + df['B']\n",
    "\"\"\"\n",
    "timeit(setup=SETUP_CODE, stmt='fast_add()', number=1000)"
   ]
  },
  {
   "cell_type": "markdown",
   "metadata": {},
   "source": [
    "Imagine we recognized that our function `slow_add` is slow, but we didn't know how to write it in terms of pure Numpy functions. We might try to use numba to vectorize it:"
   ]
  },
  {
   "cell_type": "code",
   "execution_count": 7,
   "metadata": {},
   "outputs": [
    {
     "data": {
      "text/plain": [
       "0.846783060000007"
      ]
     },
     "execution_count": 7,
     "metadata": {},
     "output_type": "execute_result"
    }
   ],
   "source": [
    "@vectorize([float64(float64, float64)])\n",
    "def med_add(x, y):\n",
    "    return x + y\n",
    "\n",
    "SETUP_CODE = \"\"\"\n",
    "import pandas as pd\n",
    "import numpy as np\n",
    "from numba import vectorize, float64\n",
    "\n",
    "df = pd.DataFrame({'A':np.arange(0, 100, 0.01), 'B':np.random.randn(10000)})\n",
    "\n",
    "@vectorize([float64(float64, float64)])\n",
    "def med_add(x, y):\n",
    "    return x + y\n",
    "\n",
    "def fast_add():\n",
    "    c = df['A'] + df['B']\n",
    "\"\"\"\n",
    "\n",
    "timeit(setup=SETUP_CODE, stmt=\"med_add(df['A'], df['B'])\", number=1000)"
   ]
  },
  {
   "cell_type": "code",
   "execution_count": null,
   "metadata": {},
   "outputs": [],
   "source": []
  }
 ],
 "metadata": {
  "kernelspec": {
   "display_name": "daskenv",
   "language": "python",
   "name": "daskenv"
  },
  "language_info": {
   "codemirror_mode": {
    "name": "ipython",
    "version": 3
   },
   "file_extension": ".py",
   "mimetype": "text/x-python",
   "name": "python",
   "nbconvert_exporter": "python",
   "pygments_lexer": "ipython3",
   "version": "3.7.0"
  }
 },
 "nbformat": 4,
 "nbformat_minor": 1
}
